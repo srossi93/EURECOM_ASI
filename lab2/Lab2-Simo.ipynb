{
 "cells": [
  {
   "cell_type": "markdown",
   "metadata": {
    "deletable": true,
    "editable": true
   },
   "source": [
    "# Metropolis-Hastings"
   ]
  },
  {
   "cell_type": "code",
   "execution_count": 155,
   "metadata": {
    "collapsed": false,
    "deletable": true,
    "editable": true
   },
   "outputs": [],
   "source": [
    "#from __future__ import print_function\n",
    "import numpy as np\n",
    "import math\n",
    "\n",
    "#import matplotlib\n",
    "#import matplotlib.mlab as mlab\n",
    "\n",
    "import matplotlib.pyplot as plt\n",
    "import seaborn as sns\n",
    "import plotly.plotly as py\n",
    "import plotly.graph_objs as go\n",
    "\n",
    "import scipy.io as sio\n",
    "import pandas as pd\n",
    "\n",
    "from scipy import optimize, linalg\n",
    "from pprint import pprint\n",
    "from jupyterthemes import jtplot\n",
    "\n",
    "# oceans16 | grade3 | chesterish | onedork | monokai | solarizedl\n",
    "# set \"context\" (paper, notebook, talk, or poster)\n",
    "# & font scale (scalar applied to labels, legend, etc.)\n",
    "jtplot.style('grade3', context='paper', fscale=1.4)\n",
    "jtplot.style(ticks=True, grid=False)\n",
    "jtplot.figsize(x=15, y=10)"
   ]
  },
  {
   "cell_type": "code",
   "execution_count": 54,
   "metadata": {
    "collapsed": false,
    "deletable": true,
    "editable": true
   },
   "outputs": [],
   "source": [
    "def laplacecomp(w, X, t):\n",
    "    w = np.array(w)\n",
    "    X = np.array(X)\n",
    "    t = np.array(t)\n",
    "    '''\n",
    "        Return two np array for g and log(g)\n",
    "    '''\n",
    "    # Computes g and log g for the laplace model introduced in the lecture.\n",
    "    ss = 10 # Prior variance\n",
    "    # Evaluate log prior\n",
    "    logg = -(1/(2 * ss)) * w.transpose().dot(w)\n",
    "    # Compute P\n",
    "    P = np.array(1. / ( 1 + np.exp(-X.dot(w))))\n",
    "    #print(P)\n",
    "    logl = sum((t * np.log(P)) + ((1 - t) * np.log(1-P)))\n",
    "    \n",
    "    logg = logg + logl\n",
    "    g = np.exp(logg)\n",
    "    return (g[0][0], logg[0][0])\n",
    "\n",
    "w = np.array([[-1],[-2]])\n",
    "X = np.matrix([[0, 0], [1,1]])\n",
    "t = np.array([0,1])\n",
    "assert laplacecomp(w, X, t) == (0.37093273795143539, -0.99173453213368734), 'Error in laplacomp function'"
   ]
  },
  {
   "cell_type": "code",
   "execution_count": 114,
   "metadata": {
    "collapsed": false,
    "deletable": true,
    "editable": true
   },
   "outputs": [],
   "source": [
    "mat = sio.loadmat('binaryclass2.mat')\n",
    "X = mat['X']\n",
    "t = mat['t']\n",
    "w = np.zeros([X.shape[1], 1])\n",
    "#laplacecomp(w, X, t)"
   ]
  },
  {
   "cell_type": "code",
   "execution_count": 169,
   "metadata": {
    "collapsed": false,
    "deletable": true,
    "editable": true
   },
   "outputs": [],
   "source": [
    "df = pd.DataFrame(X)\n",
    "df0 = pd.DataFrame(t)\n",
    "df.insert(2, 2, value=df0)"
   ]
  },
  {
   "cell_type": "code",
   "execution_count": 176,
   "metadata": {
    "collapsed": false
   },
   "outputs": [
    {
     "data": {
      "text/html": [
       "<iframe id=\"igraph\" scrolling=\"no\" style=\"border:none;\" seamless=\"seamless\" src=\"https://plot.ly/~srossi/2.embed\" height=\"525px\" width=\"100%\"></iframe>"
      ],
      "text/plain": [
       "<plotly.tools.PlotlyDisplay object>"
      ]
     },
     "execution_count": 176,
     "metadata": {},
     "output_type": "execute_result"
    }
   ],
   "source": [
    "trace1 = go.Scatter(\n",
    "    x = df[df[2] == 0][0],\n",
    "    y = df[df[2] == 0][1],\n",
    "    mode = 'markers',\n",
    "    name = 'Class 0'\n",
    ")\n",
    "\n",
    "trace2 = go.Scatter(\n",
    "    x = df[df[2] == 1][0],\n",
    "    y = df[df[2] == 1][1],\n",
    "    mode = 'markers',\n",
    "    name = 'Class 1'\n",
    ")\n",
    "\n",
    "data = [trace1, trace2]\n",
    "\n",
    "py.iplot(data, filename='basic-scatter')"
   ]
  },
  {
   "cell_type": "code",
   "execution_count": 56,
   "metadata": {
    "collapsed": false,
    "deletable": true,
    "editable": true
   },
   "outputs": [],
   "source": [
    "def acceptance_ratio(w_s, w_s1, X, t):\n",
    "    #print(w_s)\n",
    "    r = laplacecomp(w_s, X, t)[1] - laplacecomp(w_s1, X, t)[1]\n",
    "    #print(laplacecomp(w_s, X, t))\n",
    "    return r"
   ]
  },
  {
   "cell_type": "markdown",
   "metadata": {
    "collapsed": false,
    "deletable": true,
    "editable": true
   },
   "source": [
    "w = np.zeros([X.shape[1], 1])\n",
    "\n",
    "w = np.random.multivariate_normal(mean=np.ones([X.shape[1], 1])[:,0], cov=step)\n",
    "w = np.array([w]).T\n",
    "\n",
    "new_w_s = np.random.multivariate_normal(mean=w[:,0], cov=step)\n",
    "new_w_s = np.array([new_w_s]).T\n",
    "\n",
    "print(laplacecomp(new_w_s, X, t))\n",
    "print(acceptance_ratio(new_w_s, w, X, t))"
   ]
  },
  {
   "cell_type": "code",
   "execution_count": 259,
   "metadata": {
    "collapsed": false,
    "deletable": true,
    "editable": true
   },
   "outputs": [],
   "source": [
    "def MH(X, t, total_trials, step):\n",
    "    s = 0\n",
    "    w = np.random.randn(2,1)\n",
    "    ws = [w, ] #<---\n",
    "    #w.append(np.ones([X.shape[1], 1]))\n",
    "    for s in np.arange(total_trials):\n",
    "        #s += 1\n",
    "        if (s+1) % (total_trials/100) == 0:\n",
    "            if (s+1) % (total_trials/10) == 0:\n",
    "                print('|', end='')\n",
    "            else:\n",
    "                print('.', end='')\n",
    "                \n",
    "        wp = np.random.randn(2,1) * 0.5 + w #generate wp from p(ws|ws-1)\n",
    "        w = ws[-1]\n",
    "        gws, loggws = laplacecomp(w, X, t)\n",
    "        gwp, loggwp = laplacecomp(wp, X, t)\n",
    "        #compute acceptance ratio r\n",
    "        logr = loggwp - loggws\n",
    "        r = np.exp(logr)\n",
    "    \n",
    "        if logr >= 0:\n",
    "            ws.append(wp) #acceptance\n",
    "        else:\n",
    "            u = np.random.uniform(0,1)\n",
    "            if u <= r:\n",
    "                ws.append(wp) #acceptance\n",
    "            else:\n",
    "                ws.append(w) #rejection -> don't forget to add again the same value w\n",
    "    print()\n",
    "    return ws"
   ]
  },
  {
   "cell_type": "code",
   "execution_count": 262,
   "metadata": {
    "collapsed": false,
    "deletable": true,
    "editable": true
   },
   "outputs": [
    {
     "name": "stdout",
     "output_type": "stream",
     "text": [
      ".........|.........|.........|.........|.........|.........|.........|.........|.........|.........|\n"
     ]
    },
    {
     "name": "stderr",
     "output_type": "stream",
     "text": [
      "/usr/local/lib/python3.6/site-packages/ipykernel_launcher.py:12: RuntimeWarning:\n",
      "\n",
      "divide by zero encountered in log\n",
      "\n",
      "/usr/local/lib/python3.6/site-packages/ipykernel_launcher.py:12: RuntimeWarning:\n",
      "\n",
      "invalid value encountered in multiply\n",
      "\n"
     ]
    }
   ],
   "source": [
    "step = np.array([[0.5, 0], [0, 0.5]])\n",
    "num_trials = 1000\n",
    "samples = MH(X, t, num_trials, step)\n",
    "#pprint(samples[0:10])"
   ]
  },
  {
   "cell_type": "code",
   "execution_count": 263,
   "metadata": {
    "collapsed": false,
    "deletable": true,
    "editable": true
   },
   "outputs": [
    {
     "ename": "PlotlyRequestError",
     "evalue": "Hey there! You've hit one of our API request limits. \n\nTo get unlimited API calls(10,000/day), please upgrade to a paid plan. \n\nUPGRADE HERE: https://goo.gl/i7glmM \n\nThanks for using Plotly! Happy Plotting!",
     "output_type": "error",
     "traceback": [
      "\u001b[0;31m---------------------------------------------------------------------------\u001b[0m",
      "\u001b[0;31mPlotlyRequestError\u001b[0m                        Traceback (most recent call last)",
      "\u001b[0;32m<ipython-input-263-0928fc810a14>\u001b[0m in \u001b[0;36m<module>\u001b[0;34m()\u001b[0m\n\u001b[1;32m      9\u001b[0m \u001b[0mdata\u001b[0m \u001b[0;34m=\u001b[0m \u001b[0;34m[\u001b[0m\u001b[0mtrace\u001b[0m\u001b[0;34m]\u001b[0m\u001b[0;34m\u001b[0m\u001b[0m\n\u001b[1;32m     10\u001b[0m \u001b[0;34m\u001b[0m\u001b[0m\n\u001b[0;32m---> 11\u001b[0;31m \u001b[0mpy\u001b[0m\u001b[0;34m.\u001b[0m\u001b[0miplot\u001b[0m\u001b[0;34m(\u001b[0m\u001b[0mdata\u001b[0m\u001b[0;34m,\u001b[0m \u001b[0mfilename\u001b[0m\u001b[0;34m=\u001b[0m\u001b[0;34m'basic-scatter'\u001b[0m\u001b[0;34m)\u001b[0m\u001b[0;34m\u001b[0m\u001b[0m\n\u001b[0m",
      "\u001b[0;32m/usr/local/lib/python3.6/site-packages/plotly/plotly/plotly.py\u001b[0m in \u001b[0;36miplot\u001b[0;34m(figure_or_data, **plot_options)\u001b[0m\n\u001b[1;32m    132\u001b[0m     \u001b[0;32mif\u001b[0m \u001b[0;34m'auto_open'\u001b[0m \u001b[0;32mnot\u001b[0m \u001b[0;32min\u001b[0m \u001b[0mplot_options\u001b[0m\u001b[0;34m:\u001b[0m\u001b[0;34m\u001b[0m\u001b[0m\n\u001b[1;32m    133\u001b[0m         \u001b[0mplot_options\u001b[0m\u001b[0;34m[\u001b[0m\u001b[0;34m'auto_open'\u001b[0m\u001b[0;34m]\u001b[0m \u001b[0;34m=\u001b[0m \u001b[0;32mFalse\u001b[0m\u001b[0;34m\u001b[0m\u001b[0m\n\u001b[0;32m--> 134\u001b[0;31m     \u001b[0murl\u001b[0m \u001b[0;34m=\u001b[0m \u001b[0mplot\u001b[0m\u001b[0;34m(\u001b[0m\u001b[0mfigure_or_data\u001b[0m\u001b[0;34m,\u001b[0m \u001b[0;34m**\u001b[0m\u001b[0mplot_options\u001b[0m\u001b[0;34m)\u001b[0m\u001b[0;34m\u001b[0m\u001b[0m\n\u001b[0m\u001b[1;32m    135\u001b[0m \u001b[0;34m\u001b[0m\u001b[0m\n\u001b[1;32m    136\u001b[0m     \u001b[0;32mif\u001b[0m \u001b[0misinstance\u001b[0m\u001b[0;34m(\u001b[0m\u001b[0mfigure_or_data\u001b[0m\u001b[0;34m,\u001b[0m \u001b[0mdict\u001b[0m\u001b[0;34m)\u001b[0m\u001b[0;34m:\u001b[0m\u001b[0;34m\u001b[0m\u001b[0m\n",
      "\u001b[0;32m/usr/local/lib/python3.6/site-packages/plotly/plotly/plotly.py\u001b[0m in \u001b[0;36mplot\u001b[0;34m(figure_or_data, validate, **plot_options)\u001b[0m\n\u001b[1;32m    225\u001b[0m     \u001b[0mdata\u001b[0m \u001b[0;34m=\u001b[0m \u001b[0mfig\u001b[0m\u001b[0;34m.\u001b[0m\u001b[0mget\u001b[0m\u001b[0;34m(\u001b[0m\u001b[0;34m'data'\u001b[0m\u001b[0;34m,\u001b[0m \u001b[0;34m[\u001b[0m\u001b[0;34m]\u001b[0m\u001b[0;34m)\u001b[0m\u001b[0;34m\u001b[0m\u001b[0m\n\u001b[1;32m    226\u001b[0m     \u001b[0mplot_options\u001b[0m\u001b[0;34m[\u001b[0m\u001b[0;34m'layout'\u001b[0m\u001b[0;34m]\u001b[0m \u001b[0;34m=\u001b[0m \u001b[0mfig\u001b[0m\u001b[0;34m.\u001b[0m\u001b[0mget\u001b[0m\u001b[0;34m(\u001b[0m\u001b[0;34m'layout'\u001b[0m\u001b[0;34m,\u001b[0m \u001b[0;34m{\u001b[0m\u001b[0;34m}\u001b[0m\u001b[0;34m)\u001b[0m\u001b[0;34m\u001b[0m\u001b[0m\n\u001b[0;32m--> 227\u001b[0;31m     \u001b[0mresponse\u001b[0m \u001b[0;34m=\u001b[0m \u001b[0mv1\u001b[0m\u001b[0;34m.\u001b[0m\u001b[0mclientresp\u001b[0m\u001b[0;34m(\u001b[0m\u001b[0mdata\u001b[0m\u001b[0;34m,\u001b[0m \u001b[0;34m**\u001b[0m\u001b[0mplot_options\u001b[0m\u001b[0;34m)\u001b[0m\u001b[0;34m\u001b[0m\u001b[0m\n\u001b[0m\u001b[1;32m    228\u001b[0m \u001b[0;34m\u001b[0m\u001b[0m\n\u001b[1;32m    229\u001b[0m     \u001b[0;31m# Check if the url needs a secret key\u001b[0m\u001b[0;34m\u001b[0m\u001b[0;34m\u001b[0m\u001b[0m\n",
      "\u001b[0;32m/usr/local/lib/python3.6/site-packages/plotly/api/v1/clientresp.py\u001b[0m in \u001b[0;36mclientresp\u001b[0;34m(data, **kwargs)\u001b[0m\n\u001b[1;32m     33\u001b[0m \u001b[0;34m\u001b[0m\u001b[0m\n\u001b[1;32m     34\u001b[0m     \u001b[0murl\u001b[0m \u001b[0;34m=\u001b[0m \u001b[0;34m'{plotly_domain}/clientresp'\u001b[0m\u001b[0;34m.\u001b[0m\u001b[0mformat\u001b[0m\u001b[0;34m(\u001b[0m\u001b[0;34m**\u001b[0m\u001b[0mcfg\u001b[0m\u001b[0;34m)\u001b[0m\u001b[0;34m\u001b[0m\u001b[0m\n\u001b[0;32m---> 35\u001b[0;31m     \u001b[0mresponse\u001b[0m \u001b[0;34m=\u001b[0m \u001b[0mrequest\u001b[0m\u001b[0;34m(\u001b[0m\u001b[0;34m'post'\u001b[0m\u001b[0;34m,\u001b[0m \u001b[0murl\u001b[0m\u001b[0;34m,\u001b[0m \u001b[0mdata\u001b[0m\u001b[0;34m=\u001b[0m\u001b[0mpayload\u001b[0m\u001b[0;34m)\u001b[0m\u001b[0;34m\u001b[0m\u001b[0m\n\u001b[0m\u001b[1;32m     36\u001b[0m \u001b[0;34m\u001b[0m\u001b[0m\n\u001b[1;32m     37\u001b[0m     \u001b[0;31m# Old functionality, just keeping it around.\u001b[0m\u001b[0;34m\u001b[0m\u001b[0;34m\u001b[0m\u001b[0m\n",
      "\u001b[0;32m/usr/local/lib/python3.6/site-packages/plotly/api/v1/utils.py\u001b[0m in \u001b[0;36mrequest\u001b[0;34m(method, url, **kwargs)\u001b[0m\n\u001b[1;32m     84\u001b[0m         \u001b[0mcontent\u001b[0m \u001b[0;34m=\u001b[0m \u001b[0mresponse\u001b[0m\u001b[0;34m.\u001b[0m\u001b[0mcontent\u001b[0m \u001b[0;32mif\u001b[0m \u001b[0mresponse\u001b[0m \u001b[0;32melse\u001b[0m \u001b[0;34m'No content'\u001b[0m\u001b[0;34m\u001b[0m\u001b[0m\n\u001b[1;32m     85\u001b[0m         \u001b[0;32mraise\u001b[0m \u001b[0mexceptions\u001b[0m\u001b[0;34m.\u001b[0m\u001b[0mPlotlyRequestError\u001b[0m\u001b[0;34m(\u001b[0m\u001b[0mmessage\u001b[0m\u001b[0;34m,\u001b[0m \u001b[0mstatus_code\u001b[0m\u001b[0;34m,\u001b[0m \u001b[0mcontent\u001b[0m\u001b[0;34m)\u001b[0m\u001b[0;34m\u001b[0m\u001b[0m\n\u001b[0;32m---> 86\u001b[0;31m     \u001b[0mvalidate_response\u001b[0m\u001b[0;34m(\u001b[0m\u001b[0mresponse\u001b[0m\u001b[0;34m)\u001b[0m\u001b[0;34m\u001b[0m\u001b[0m\n\u001b[0m\u001b[1;32m     87\u001b[0m     \u001b[0;32mreturn\u001b[0m \u001b[0mresponse\u001b[0m\u001b[0;34m\u001b[0m\u001b[0m\n",
      "\u001b[0;32m/usr/local/lib/python3.6/site-packages/plotly/api/v1/utils.py\u001b[0m in \u001b[0;36mvalidate_response\u001b[0;34m(response)\u001b[0m\n\u001b[1;32m     36\u001b[0m         \u001b[0mmessage\u001b[0m \u001b[0;34m=\u001b[0m \u001b[0mcontent\u001b[0m \u001b[0;32mif\u001b[0m \u001b[0mcontent\u001b[0m \u001b[0;32melse\u001b[0m \u001b[0;34m'No Content'\u001b[0m\u001b[0;34m\u001b[0m\u001b[0m\n\u001b[1;32m     37\u001b[0m \u001b[0;34m\u001b[0m\u001b[0m\n\u001b[0;32m---> 38\u001b[0;31m     \u001b[0;32mraise\u001b[0m \u001b[0mexceptions\u001b[0m\u001b[0;34m.\u001b[0m\u001b[0mPlotlyRequestError\u001b[0m\u001b[0;34m(\u001b[0m\u001b[0mmessage\u001b[0m\u001b[0;34m,\u001b[0m \u001b[0mstatus_code\u001b[0m\u001b[0;34m,\u001b[0m \u001b[0mcontent\u001b[0m\u001b[0;34m)\u001b[0m\u001b[0;34m\u001b[0m\u001b[0m\n\u001b[0m\u001b[1;32m     39\u001b[0m \u001b[0;34m\u001b[0m\u001b[0m\n\u001b[1;32m     40\u001b[0m \u001b[0;34m\u001b[0m\u001b[0m\n",
      "\u001b[0;31mPlotlyRequestError\u001b[0m: Hey there! You've hit one of our API request limits. \n\nTo get unlimited API calls(10,000/day), please upgrade to a paid plan. \n\nUPGRADE HERE: https://goo.gl/i7glmM \n\nThanks for using Plotly! Happy Plotting!"
     ]
    }
   ],
   "source": [
    "#print(np.array(samples)[:,0][:,0])\n",
    "w_df = pd.DataFrame([np.array(samples)[:,0][:,0], np.array(samples)[:,1][:,0]]).transpose()\n",
    "trace = go.Scattergl(\n",
    "    x = w_df[0],\n",
    "    y = w_df[1],\n",
    "    mode = 'markers',\n",
    "    name = 'Weights'\n",
    ")\n",
    "data = [trace]\n",
    "\n",
    "py.iplot(data, filename='basic-scatter')"
   ]
  },
  {
   "cell_type": "code",
   "execution_count": 208,
   "metadata": {
    "collapsed": false,
    "deletable": true,
    "editable": true
   },
   "outputs": [],
   "source": [
    "def predict(samples, x_new):\n",
    "    p = 0.\n",
    "    for w in samples:\n",
    "        p += 1 / (1 + np.exp(-w.T.dot(x_new)))\n",
    "    p /= len(samples)\n",
    "    return p[0]"
   ]
  },
  {
   "cell_type": "code",
   "execution_count": 209,
   "metadata": {
    "collapsed": false,
    "deletable": true,
    "editable": true
   },
   "outputs": [
    {
     "data": {
      "text/plain": [
       "0.038492388262846462"
      ]
     },
     "execution_count": 209,
     "metadata": {},
     "output_type": "execute_result"
    }
   ],
   "source": [
    "x_new = np.array([2,-4])\n",
    "predict(samples, x_new)"
   ]
  },
  {
   "cell_type": "code",
   "execution_count": 254,
   "metadata": {
    "collapsed": false,
    "deletable": true,
    "editable": true
   },
   "outputs": [],
   "source": [
    "xmin, xmax, xstep = (-6, 6.5, 0.5)\n",
    "ymin, ymax, ystep = (-6, 6.5, 0.5)\n",
    "\n",
    "p = []\n",
    "for y in np.arange(ymin, ymax, ystep):\n",
    "    p_x = []\n",
    "    for x in np.arange(xmin, xmax, xstep):\n",
    "        x_new = np.array([x, y])\n",
    "        p_x.append(predict(samples, x_new))\n",
    "    p.append(p_x)"
   ]
  },
  {
   "cell_type": "code",
   "execution_count": 255,
   "metadata": {
    "collapsed": false
   },
   "outputs": [
    {
     "data": {
      "text/html": [
       "<iframe id=\"igraph\" scrolling=\"no\" style=\"border:none;\" seamless=\"seamless\" src=\"https://plot.ly/~srossi/18.embed\" height=\"525px\" width=\"100%\"></iframe>"
      ],
      "text/plain": [
       "<plotly.tools.PlotlyDisplay object>"
      ]
     },
     "execution_count": 255,
     "metadata": {},
     "output_type": "execute_result"
    }
   ],
   "source": [
    "prob = [go.Contour(\n",
    "            z=p,\n",
    "            y=np.arange(xmin, xmax, xstep),\n",
    "            x=np.arange(ymin, ymax, ystep),\n",
    "            contours=dict(coloring='heatmap')\n",
    "    ), go.Scatter(\n",
    "        x = df[df[2] == 0][0],\n",
    "        y = df[df[2] == 0][1],\n",
    "        mode = 'markers',\n",
    "        marker = dict(color='orange'),\n",
    "        name = 'Class 0'\n",
    "    ), go.Scatter(\n",
    "        x = df[df[2] == 1][0],\n",
    "        y = df[df[2] == 1][1],\n",
    "        mode = 'markers',\n",
    "        marker = dict(color='blue'),\n",
    "        name = 'Class 1'\n",
    ")]\n",
    "\n",
    "py.iplot(prob, filename='contour-scatter')"
   ]
  },
  {
   "cell_type": "code",
   "execution_count": null,
   "metadata": {
    "collapsed": true
   },
   "outputs": [],
   "source": []
  }
 ],
 "metadata": {
  "kernelspec": {
   "display_name": "Python 3",
   "language": "python",
   "name": "python3"
  },
  "language_info": {
   "codemirror_mode": {
    "name": "ipython",
    "version": 3
   },
   "file_extension": ".py",
   "mimetype": "text/x-python",
   "name": "python",
   "nbconvert_exporter": "python",
   "pygments_lexer": "ipython3",
   "version": "3.6.1"
  }
 },
 "nbformat": 4,
 "nbformat_minor": 2
}
